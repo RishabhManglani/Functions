{
  "nbformat": 4,
  "nbformat_minor": 0,
  "metadata": {
    "colab": {
      "provenance": []
    },
    "kernelspec": {
      "name": "python3",
      "display_name": "Python 3"
    },
    "language_info": {
      "name": "python"
    }
  },
  "cells": [
    {
      "cell_type": "markdown",
      "source": [
        "1. What is the difference between a function and a method in Python?"
      ],
      "metadata": {
        "id": "LwsiGZ_xptYL"
      }
    },
    {
      "cell_type": "markdown",
      "source": [
        "      The key difference between a function and a method in Python lies in  \n",
        "      their association with objects (instances of classes).\n",
        "\n",
        "    Here's a breakdown:\n",
        "\n",
        "    Function:\n",
        "\n",
        "    Definition: A block of organized, reusable code that performs a specific task.\n",
        "    Independence: Defined independently in a module. It's not inherently linked to\n",
        "    any specific object or class.\n",
        "    Invocation: Called directly by its name, possibly passing arguments.\n",
        "    First Argument: Does not implicitly receive an instance of a class as its first argument.\n",
        "    Method:\n",
        "\n",
        "    Definition: A function that is associated with an object (an instance of a class).\n",
        "    Association: Defined inside a class definition. It operates on the attributes and behavior of the objects of that class.\n",
        "    Invocation: Called on an object using dot notation (object.method()).\n",
        "    First Argument: Automatically receives the instance of the class it belongs to as its first argument. By convention, this parameter is named self.\n"
      ],
      "metadata": {
        "id": "dt0r5pdTpyoc"
      }
    },
    {
      "cell_type": "code",
      "execution_count": null,
      "metadata": {
        "colab": {
          "base_uri": "https://localhost:8080/"
        },
        "id": "EhD8-9YwoOY7",
        "outputId": "45b8d780-f75a-48e1-980b-8d0af1467348"
      },
      "outputs": [
        {
          "output_type": "stream",
          "name": "stdout",
          "text": [
            "Hello, Alice!\n",
            "Woof!\n",
            "This is Buddy, a Golden Retriever.\n"
          ]
        }
      ],
      "source": [
        "# Defining a function\n",
        "def greet(name):\n",
        "  print(f\"Hello, {name}!\")\n",
        "\n",
        "# Defining a class\n",
        "class Dog:\n",
        "  def __init__(self, breed, name):\n",
        "    self.breed = breed\n",
        "    self.name = name\n",
        "\n",
        "  # Defining a method inside the class\n",
        "  def bark(self):\n",
        "    print(\"Woof!\")\n",
        "\n",
        "  # Another method that uses the object's attributes\n",
        "  def introduce(self):\n",
        "    print(f\"This is {self.name}, a {self.breed}.\")\n",
        "\n",
        "# Calling the function\n",
        "greet(\"Alice\")  # Output: Hello, Alice!\n",
        "\n",
        "# Creating an object (instance) of the Dog class\n",
        "my_dog = Dog(\"Golden Retriever\", \"Buddy\")\n",
        "\n",
        "# Calling the methods on the object\n",
        "my_dog.bark()      # Output: Woof!\n",
        "my_dog.introduce() # Output: This is Buddy, a Golden Retriever."
      ]
    },
    {
      "cell_type": "markdown",
      "source": [
        "2. Explain the concept of function arguments and parameters in Python."
      ],
      "metadata": {
        "id": "76UIXDTDq8QN"
      }
    },
    {
      "cell_type": "markdown",
      "source": [
        "    In Python, parameters and arguments are fundamental concepts related to how\n",
        "    you pass data into and work with functions. While often used  \n",
        "    interchangeably in casual conversation, they have distinct meanings:\n",
        "\n",
        "    Parameters:\n",
        "\n",
        "    Definition: Parameters are the names listed in the function's definition.\n",
        "    They act as placeholders for the values that will be passed into the\n",
        "    function when it is called.\n",
        "    Location: They are defined within the parentheses () of the function       definition.\n",
        "    Purpose: They define the inputs that the function expects to receive.\n",
        "    Arguments:\n",
        "\n",
        "    Definition: Arguments are the actual values that are passed to the function\n",
        "    when it is called (invoked).\n",
        "    Location: They are provided within the parentheses () during the function\n",
        "    call.\n",
        "    Purpose: They provide the concrete data that the function will operate on,\n",
        "    corresponding to the parameters in the function definition."
      ],
      "metadata": {
        "id": "2pG26w-brFqJ"
      }
    },
    {
      "cell_type": "code",
      "source": [
        "# Function definition with two parameters: 'name' and 'age'\n",
        "def greet(name, age):\n",
        "  print(f\"Hello, {name}! You are {age} years old.\")\n",
        "\n",
        "# Function call with two arguments: \"Bob\" and 30\n",
        "greet(\"Bob\", 30)  # \"Bob\" is the argument for 'name', and 30 is the argument for 'age'\n",
        "\n",
        "# Another function call with different arguments\n",
        "greet(\"Alice\", 25) # \"Alice\" is the argument for 'name', and 25 is the argument for 'age'"
      ],
      "metadata": {
        "colab": {
          "base_uri": "https://localhost:8080/"
        },
        "id": "wdq1DVRKrrOB",
        "outputId": "c2f6e639-6da1-4ee5-d888-4ddff8b1dfdf"
      },
      "execution_count": null,
      "outputs": [
        {
          "output_type": "stream",
          "name": "stdout",
          "text": [
            "Hello, Bob! You are 30 years old.\n",
            "Hello, Alice! You are 25 years old.\n"
          ]
        }
      ]
    },
    {
      "cell_type": "markdown",
      "source": [
        "3. What are the different ways to define and call a function in Python?"
      ],
      "metadata": {
        "id": "kpA4ABE5pqqJ"
      }
    },
    {
      "cell_type": "markdown",
      "source": [
        "    In Python, you define functions using the def keyword, followed by the\n",
        "    function name, parentheses (), and a colon :. The code block within the\n",
        "    function is indented. 1  Here are the different ways to define and call\n",
        "    functions, along with examples:\n",
        "    Basic Function Definition and Call:\n",
        "\n",
        "    Definition: This is the most common way to define a function. You specify\n",
        "    the function name and any parameters it accepts within the parentheses.\n",
        "    Call: You call the function by its name, followed by parentheses containing\n",
        "    the arguments (if any) that correspond to the parameters."
      ],
      "metadata": {
        "id": "MqQEIwNkr5JI"
      }
    },
    {
      "cell_type": "code",
      "source": [
        "# Definition\n",
        "def greet(name):\n",
        "  print(f\"Hello, {name}!\")\n",
        "\n",
        "# Call\n",
        "greet(\"Alice\")  # Output: Hello, Alice!\n",
        "greet(\"Bob\")    # Output: Hello, Bob!"
      ],
      "metadata": {
        "colab": {
          "base_uri": "https://localhost:8080/"
        },
        "id": "8z6RYyuNru3l",
        "outputId": "f1f7db1f-10f0-452e-a8f1-d11fc6b718aa"
      },
      "execution_count": null,
      "outputs": [
        {
          "output_type": "stream",
          "name": "stdout",
          "text": [
            "Hello, Alice!\n",
            "Hello, Bob!\n"
          ]
        }
      ]
    },
    {
      "cell_type": "markdown",
      "source": [
        "4. What is the purpose of the `return` statement in a Python function?"
      ],
      "metadata": {
        "id": "WRmpJW-xsdcC"
      }
    },
    {
      "cell_type": "markdown",
      "source": [],
      "metadata": {
        "id": "syHQ3yZMsdXc"
      }
    },
    {
      "cell_type": "markdown",
      "source": [
        "    The primary purpose of the return statement in a Python function is to send\n",
        "    a value (or values) back to the caller of the function. It essentially  \n",
        "    marks the end of the function's execution and specifies what the function\n",
        "    should output or compute.\n",
        "\n",
        "    Here's a breakdown of its key functions and purposes:\n",
        "\n",
        "    Returning a Value:\n",
        "\n",
        "    The most common use of return is to provide a result that the function has  calculated or processed.\n",
        "    The value specified after the return keyword is the value that the function\n",
        "    call will evaluate to."
      ],
      "metadata": {
        "id": "AcdvurvqsrZR"
      }
    },
    {
      "cell_type": "code",
      "source": [
        "def add(a, b):\n",
        "  sum_result = a + b\n",
        "  return sum_result  # Returns the calculated sum\n",
        "\n",
        "result = add(5, 3)\n",
        "print(result)  # Output: 8"
      ],
      "metadata": {
        "colab": {
          "base_uri": "https://localhost:8080/"
        },
        "id": "3Ae7LwewscS_",
        "outputId": "b474e23f-f59c-4b28-b8ed-729014fc0335"
      },
      "execution_count": null,
      "outputs": [
        {
          "output_type": "stream",
          "name": "stdout",
          "text": [
            "8\n"
          ]
        }
      ]
    },
    {
      "cell_type": "markdown",
      "source": [
        "5. What are iterators in Python and how do they differ from iterables?"
      ],
      "metadata": {
        "id": "UsxxkBt5s806"
      }
    },
    {
      "cell_type": "markdown",
      "source": [
        "    In Python, an iterator is an object that enables traversal through the\n",
        "    elements of a collection (like lists, tuples, or dictionaries) one at a\n",
        "    time. It adheres to the iterator protocol, requiring the implementation of\n",
        "    two methods: __iter__() and __next__().\n",
        "    The __iter__() method returns the iterator object itself and is invoked at\n",
        "    the start of a loop. The __next__() method returns the subsequent element in the sequence. When there are no more elements, it raises the  StopIteration exception, signaling the end of the iteration.\n",
        "\n",
        "    \n",
        "\n",
        "\n",
        "\n",
        "    Key Differences Summarized:\n",
        "\n",
        "    Feature\t             Iterable\t                                      Iterator\n",
        "    Definition\t          Something you can loop over.\t              An object that allows traversal of an iterable.\n",
        "    State\t              Generally stateless (doesn't track position).\t   Stateful (remembers the current position).\n",
        "    Memory\t                 Can hold all items in memory at once.\tGenerates items on demand (memory-efficient).\n",
        "    Usage\tUsed as the source for iteration (e.g., in for loops).\tUsed to actually fetch the next item during iteration.\n",
        "\n"
      ],
      "metadata": {
        "id": "R6_U7OZ3tByo"
      }
    },
    {
      "cell_type": "code",
      "source": [
        "my_list = [10, 20, 30]  # my_list is an iterable\n",
        "\n",
        "# Get an iterator from the iterable\n",
        "my_iterator = iter(my_list)\n",
        "\n",
        "# Access elements using the iterator\n",
        "print(next(my_iterator))  # Output: 10\n",
        "print(next(my_iterator))  # Output: 20\n",
        "print(next(my_iterator))  # Output: 30\n",
        "\n",
        "# Trying to get the next element after exhaustion will raise StopIteration\n",
        "try:\n",
        "    print(next(my_iterator))\n",
        "except StopIteration:\n",
        "    print(\"End of iteration\")\n",
        "\n",
        "# You can get a new iterator to start over\n",
        "another_iterator = iter(my_list)\n",
        "print(next(another_iterator))  # Output: 10\n",
        "\n",
        "# Iterating using a for loop (implicitly uses iter() and next())\n",
        "for item in my_list:\n",
        "    print(item)"
      ],
      "metadata": {
        "colab": {
          "base_uri": "https://localhost:8080/"
        },
        "id": "Ctg4qF2As794",
        "outputId": "4793197a-fa35-4227-ff6c-18705efd2bb0"
      },
      "execution_count": null,
      "outputs": [
        {
          "output_type": "stream",
          "name": "stdout",
          "text": [
            "10\n",
            "20\n",
            "30\n",
            "End of iteration\n",
            "10\n",
            "10\n",
            "20\n",
            "30\n"
          ]
        }
      ]
    },
    {
      "cell_type": "markdown",
      "source": [
        "6. Explain the concept of generators in Python and how they are defined."
      ],
      "metadata": {
        "id": "JSFnb9XXv-ZP"
      }
    },
    {
      "cell_type": "markdown",
      "source": [
        "    Generators in Python are a simple and powerful way to create iterators.  \n",
        "    They allow you to define a function that behaves like an iterator,  \n",
        "    producing a sequence of values over time, but without needing to explicitly\n",
        "    define classes with __iter__() and __next__() methods.\n",
        "\n",
        "    Key Concepts:\n",
        "\n",
        "    Iterator Creation: Generators provide a concise way to build iterators.\n",
        "    Lazy Evaluation: They produce values on demand (lazily). This means they\n",
        "    only compute and yield the next value when it's requested. This is highly   memory-efficient, especially when dealing with large or infinite sequences.\n",
        "    State Preservation: When a generator function is paused (due to a yield\n",
        "    statement), its local state (including variable bindings, the instruction\n",
        "    pointer) is saved. When the generator is resumed, it continues exactly  \n",
        "    where it left off.\n",
        "\n",
        "    How Generators are Defined:\n",
        "\n",
        "    Generators are defined using a special type of function called a generator\n",
        "    function. A generator function looks like a regular Python function, but    instead of using the return keyword to send a value and terminate, it uses  the yield keyword.\n",
        "\n",
        "    The yield Keyword:\n",
        "\n",
        "    When a generator function encounters a yield statement:\n",
        "\n",
        "    The value following the yield keyword is produced (returned) to the caller.\n",
        "    The state of the generator function is frozen. This includes the current\n",
        "    values of local variables, the instruction pointer (where the function was  last executing), and the internal state of any pending try statements.\n",
        "    The function's execution is paused.\n",
        "    When the next value from the generator is requested (e.g., using next() on\n",
        "    the generator object or in a for loop), the function resumes its execution\n",
        "    from the point where it was last paused (right after the yield statement)."
      ],
      "metadata": {
        "id": "hPAgiFexwXv9"
      }
    },
    {
      "cell_type": "code",
      "source": [
        "def count_up_to(n):\n",
        "  i = 1\n",
        "  while i <= n:\n",
        "    yield i\n",
        "    i += 1\n",
        "\n",
        "# Create a generator object\n",
        "counter = count_up_to(5)\n",
        "\n",
        "# Iterate through the values\n",
        "print(next(counter))  # Output: 1\n",
        "print(next(counter))  # Output: 2\n",
        "print(next(counter))  # Output: 3\n",
        "print(next(counter))  # Output: 4\n",
        "print(next(counter))  # Output: 5\n",
        "\n",
        "# Further calls will raise StopIteration\n",
        "try:\n",
        "  print(next(counter))\n",
        "except StopIteration:\n",
        "  print(\"Generator exhausted\")\n",
        "\n",
        "# You can also iterate using a for loop\n",
        "for num in count_up_to(3):\n",
        "  print(f\"Number: {num}\")\n",
        "# Output:\n",
        "# Number: 1\n",
        "# Number: 2\n",
        "# Number: 3"
      ],
      "metadata": {
        "colab": {
          "base_uri": "https://localhost:8080/"
        },
        "id": "PzT6ZsHMv8R9",
        "outputId": "9ce1e191-fada-4735-9430-de7b03dfc9a7"
      },
      "execution_count": null,
      "outputs": [
        {
          "output_type": "stream",
          "name": "stdout",
          "text": [
            "1\n",
            "2\n",
            "3\n",
            "4\n",
            "5\n",
            "Generator exhausted\n",
            "Number: 1\n",
            "Number: 2\n",
            "Number: 3\n"
          ]
        }
      ]
    },
    {
      "cell_type": "markdown",
      "source": [
        "7. What are the advantages of using generators over regular functions?\n",
        "\n",
        "\n"
      ],
      "metadata": {
        "id": "qgnR1FzBhUua"
      }
    },
    {
      "cell_type": "markdown",
      "source": [
        "    Generators in programming offer several advantages over regular functions,\n",
        "    particularly when dealing with sequences of data.\n",
        "\n",
        "    In summary, generators are advantageous when you need to:\n",
        "\n",
        "    Process large datasets without loading them entirely into memory.\n",
        "    Work with potentially infinite sequences.\n",
        "    Implement custom iterators in a cleaner and more concise way.\n",
        "    Build efficient data processing pipelines.\n",
        "    Improve performance by only computing values when they are needed.\n",
        "\n",
        "\n",
        "\n",
        "  \n",
        "\n",
        "\n",
        "\n",
        "\n",
        "\n",
        "\n",
        "\n",
        "\n",
        "\n",
        "\n",
        "\n",
        "\n"
      ],
      "metadata": {
        "id": "NiseEnNCh5_p"
      }
    },
    {
      "cell_type": "code",
      "source": [
        "import sys\n",
        "\n",
        "# Regular function that creates a list\n",
        "def create_list(n):\n",
        "    return [i for i in range(n)]\n",
        "\n",
        "# Generator that produces numbers one by one\n",
        "def generate_numbers(n):\n",
        "    for i in range(n):\n",
        "        yield i\n"
      ],
      "metadata": {
        "id": "zv-WewEzw7dC"
      },
      "execution_count": 4,
      "outputs": []
    },
    {
      "cell_type": "markdown",
      "source": [
        "8. What is a lambda function in Python and when is it typically used?"
      ],
      "metadata": {
        "id": "VbyNlAuajw8V"
      }
    },
    {
      "cell_type": "markdown",
      "source": [
        "    A lambda function in Python is a small, anonymous function defined without  \n",
        "    a name. It's created using the lambda keyword. Lambda functions can take  \n",
        "    any number of arguments but can only have one expression. The result of  \n",
        "    this expression is implicitly returned.\n",
        "\n",
        "    Lambda functions are most commonly used in situations where you need a  \n",
        "    small function for a short period and don't want to go through the  \n",
        "    formality of defining a regular function using def. Here are some typical\n",
        "    use cases:\n",
        "\n",
        "    1. As Arguments to Higher-Order Functions:\n",
        "    2. With GUI Programming (Event Handlers):\n",
        "    3. Creating Simple Callbacks or Actions:\n",
        "    4. Within Other Functions (for Clarity or Encapsulation):\n",
        "\n",
        "\n",
        "\n",
        "\n",
        "\n"
      ],
      "metadata": {
        "id": "eVkay1CZj7VW"
      }
    },
    {
      "cell_type": "code",
      "source": [
        "numbers = [1, 2, 3, 4, 5]\n",
        "\n",
        "# Using lambda with map() to square each number\n",
        "squared_numbers = list(map(lambda x: x**2, numbers))\n",
        "print(squared_numbers)  # Output: [1, 4, 9, 16, 25]\n",
        "\n",
        "# Using lambda with filter() to get even numbers\n",
        "even_numbers = list(filter(lambda x: x % 2 == 0, numbers))\n",
        "print(even_numbers)  # Output: [2, 4]\n",
        "\n",
        "# Using lambda with sorted() to sort a list of tuples based on the second element\n",
        "data = [(1, 'b'), (3, 'a'), (2, 'c')]\n",
        "sorted_data = sorted(data, key=lambda item: item[1])\n",
        "print(sorted_data)  # Output: [(3, 'a'), (1, 'b'), (2, 'c')]"
      ],
      "metadata": {
        "colab": {
          "base_uri": "https://localhost:8080/"
        },
        "id": "4G-6AlkBj6mC",
        "outputId": "7b47eedb-764b-48e4-af72-779d7c809b16"
      },
      "execution_count": 6,
      "outputs": [
        {
          "output_type": "stream",
          "name": "stdout",
          "text": [
            "[1, 4, 9, 16, 25]\n",
            "[2, 4]\n",
            "[(3, 'a'), (1, 'b'), (2, 'c')]\n"
          ]
        }
      ]
    },
    {
      "cell_type": "markdown",
      "source": [
        "9. Explain the purpose and usage of the `map()` function in Python."
      ],
      "metadata": {
        "id": "neq6Edadk8F1"
      }
    },
    {
      "cell_type": "markdown",
      "source": [
        "    The map() function in Python is a built-in function that allows you to  \n",
        "    apply a given function to each item in an iterable 1  (like a list, tuple,\n",
        "    or string) and returns an iterator that yields the results.\n",
        "\n",
        "    Purpose:\n",
        "\n",
        "    The primary purpose of map() is to transform each element of an iterable\n",
        "    based on a specified function, without the need for explicit loops. It\n",
        "    provides a more concise and often more readable way to perform element-wise\n",
        "    operations on collections.\n",
        "\n",
        "    Usage:\n",
        "\n",
        "    The map() function takes two main arguments:\n",
        "\n",
        "    function: The function to apply to each item in the iterable. This function\n",
        "    can be a built-in function, a user-defined function, or even a lambda\n",
        "    function. It should take one argument (representing an item from the\n",
        "    iterable).\n",
        "    iterable: The sequence (list, tuple, string, etc.) whose items you want to  process.\n"
      ],
      "metadata": {
        "id": "MJ1Vskfxk_WK"
      }
    },
    {
      "cell_type": "code",
      "source": [
        "def square(n):\n",
        "    return n ** 2\n",
        "\n",
        "numbers = [1, 2, 3, 4, 5]\n",
        "squared_numbers = map(square, numbers)\n",
        "print(list(squared_numbers))  # Output: [1, 4, 9, 16, 25]"
      ],
      "metadata": {
        "colab": {
          "base_uri": "https://localhost:8080/"
        },
        "id": "E-dW7flrk4E0",
        "outputId": "61abadbc-9daa-479f-a2db-b271b9e9374e"
      },
      "execution_count": 7,
      "outputs": [
        {
          "output_type": "stream",
          "name": "stdout",
          "text": [
            "[1, 4, 9, 16, 25]\n"
          ]
        }
      ]
    },
    {
      "cell_type": "markdown",
      "source": [
        "10. What is the difference between `map()`, `reduce()`, and `filter()` functions in Python?"
      ],
      "metadata": {
        "id": "HS2spGCqljCf"
      }
    },
    {
      "cell_type": "markdown",
      "source": [
        "    Here's a table summarizing the key differences:\n",
        "\n",
        "    Feature\t   map()\t                       filter()\t                reduce()\n",
        "    Purpose\tTransform each element\tSelect elements based on a condition\t Reduce iterable to a single value\n",
        "    Input\tFunction, one or more iterables\tFunction (returns boolean), one iterable\tFunction (takes two args), one iterable (opt. initial)\n",
        "    Output\tIterator (yields transformed elements)\tIterator (yields filtered elements)\tSingle value\n",
        "    Length\tSame as the shortest input iterable\tSubset of the input iterable\tAlways a single value\n",
        "    Operation\tElement-wise transformation\tElement-wise selection\tCumulative application (aggregation)\n",
        "    Return Type\t<map object> (iterator)\t<filter object> (iterator)\tSingle value\n",
        "    Location\tBuilt-in\tBuilt-in\tfunctools module (needs import)\n",
        "\n",
        "\n"
      ],
      "metadata": {
        "id": "j0JWdwZ7lnE0"
      }
    },
    {
      "cell_type": "markdown",
      "source": [
        "     11. Using pen & Paper write the internal mechanism for sum operation using  reduce function on this given\n",
        "      list:[47,11,42,13];"
      ],
      "metadata": {
        "id": "QXeeJjxsmrnh"
      }
    },
    {
      "cell_type": "code",
      "source": [
        "from functools import reduce\n",
        "\n",
        "my_list = [47, 11, 42, 13]\n",
        "sum_result = reduce(lambda x, y: x + y, my_list)\n",
        "# sum_result will be 113"
      ],
      "metadata": {
        "id": "vl14CdlpnnJo"
      },
      "execution_count": 10,
      "outputs": []
    },
    {
      "cell_type": "markdown",
      "source": [
        "![WhatsApp Image 2025-04-03 at 08.46.05_3b9d30c8.jpg](\n",
        "  \n",
        ")\n",
        "\n",
        "\n",
        "\n"
      ],
      "metadata": {
        "id": "acVcUeZLp1w3"
      }
    },
    {
      "cell_type": "markdown",
      "source": [
        "                          Practical Questions:\n",
        "\n"
      ],
      "metadata": {
        "id": "VlNDmJfyqHvn"
      }
    },
    {
      "cell_type": "markdown",
      "source": [
        "1. Write a Python function that takes a list of numbers as input and returns the sum of all even numbers in\n",
        "the list."
      ],
      "metadata": {
        "id": "hCbNekFVqNOH"
      }
    },
    {
      "cell_type": "code",
      "source": [
        "def sum_of_even_numbers(numbers):\n",
        "  \"\"\"\n",
        "  Calculates the sum of all even numbers in a given list.\n",
        "\n",
        "  Args:\n",
        "    numbers: A list of numbers.\n",
        "\n",
        "  Returns:\n",
        "    The sum of all even numbers in the list. Returns 0 if the list\n",
        "    is empty or contains no even numbers.\n",
        "  \"\"\"\n",
        "  even_sum = 0\n",
        "  for number in numbers:\n",
        "    if number % 2 == 0:\n",
        "      even_sum += number\n",
        "  return even_sum\n",
        "\n",
        "# Example usage:\n",
        "my_list = [1, 2, 3, 4, 5, 6, 7, 8, 9, 10]\n",
        "even_sum = sum_of_even_numbers(my_list)\n",
        "print(f\"The sum of even numbers in {my_list} is: {even_sum}\")\n",
        "\n",
        "empty_list = []\n",
        "even_sum_empty = sum_of_even_numbers(empty_list)\n",
        "print(f\"The sum of even numbers in {empty_list} is: {even_sum_empty}\")\n",
        "\n",
        "odd_list = [1, 3, 5, 7, 9]\n",
        "even_sum_odd = sum_of_even_numbers(odd_list)\n",
        "print(f\"The sum of even numbers in {odd_list} is: {even_sum_odd}\")"
      ],
      "metadata": {
        "colab": {
          "base_uri": "https://localhost:8080/"
        },
        "id": "zw6OkDxpoLXm",
        "outputId": "da7da448-e5cd-4bc8-aba3-aa87ffbf732e"
      },
      "execution_count": 11,
      "outputs": [
        {
          "output_type": "stream",
          "name": "stdout",
          "text": [
            "The sum of even numbers in [1, 2, 3, 4, 5, 6, 7, 8, 9, 10] is: 30\n",
            "The sum of even numbers in [] is: 0\n",
            "The sum of even numbers in [1, 3, 5, 7, 9] is: 0\n"
          ]
        }
      ]
    },
    {
      "cell_type": "markdown",
      "source": [],
      "metadata": {
        "id": "jy4vCzxaqW2s"
      }
    },
    {
      "cell_type": "markdown",
      "source": [
        "2. Create a Python function that accepts a string and returns the reverse of that string."
      ],
      "metadata": {
        "id": "s80kr3FpqZzt"
      }
    },
    {
      "cell_type": "code",
      "source": [
        "def reverse_string(input_string):\n",
        "  \"\"\"\n",
        "  Reverses a given string.\n",
        "\n",
        "  Args:\n",
        "    input_string: The string to be reversed.\n",
        "\n",
        "  Returns:\n",
        "    The reversed version of the input string.\n",
        "  \"\"\"\n",
        "  return input_string[::-1]\n",
        "\n",
        "# Example usage:\n",
        "string1 = \"hello\"\n",
        "reversed_string1 = reverse_string(string1)\n",
        "print(f\"The reverse of '{string1}' is: '{reversed_string1}'\")\n",
        "\n",
        "string2 = \"Python\"\n",
        "reversed_string2 = reverse_string(string2)\n",
        "print(f\"The reverse of '{string2}' is: '{reversed_string2}'\")\n",
        "\n",
        "string3 = \"\"\n",
        "reversed_string3 = reverse_string(string3)\n",
        "print(f\"The reverse of '{string3}' is: '{reversed_string3}'\")"
      ],
      "metadata": {
        "colab": {
          "base_uri": "https://localhost:8080/"
        },
        "id": "vbk3KTAxqVvz",
        "outputId": "615f8c0d-d51f-4fd4-b275-8d6433a91724"
      },
      "execution_count": 12,
      "outputs": [
        {
          "output_type": "stream",
          "name": "stdout",
          "text": [
            "The reverse of 'hello' is: 'olleh'\n",
            "The reverse of 'Python' is: 'nohtyP'\n",
            "The reverse of '' is: ''\n"
          ]
        }
      ]
    },
    {
      "cell_type": "markdown",
      "source": [
        "3. Implement a Python function that takes a list of integers and returns a new list containing the squares of\n",
        "each number.\n"
      ],
      "metadata": {
        "id": "C1tdpddKqfKZ"
      }
    },
    {
      "cell_type": "code",
      "source": [
        "def square_list(numbers):\n",
        "  \"\"\"\n",
        "  Calculates the square of each number in a list of integers.\n",
        "\n",
        "  Args:\n",
        "    numbers: A list of integers.\n",
        "\n",
        "  Returns:\n",
        "    A new list containing the square of each number from the input list.\n",
        "  \"\"\"\n",
        "  squared_numbers = []\n",
        "  for number in numbers:\n",
        "    squared_numbers.append(number ** 2)\n",
        "  return squared_numbers\n",
        "\n",
        "# Example usage:\n",
        "my_numbers = [1, 2, 3, 4, 5]\n",
        "squared_list_result = square_list(my_numbers)\n",
        "print(f\"Original list: {my_numbers}\")\n",
        "print(f\"List of squares: {squared_list_result}\")\n",
        "\n",
        "empty_list = []\n",
        "squared_empty = square_list(empty_list)\n",
        "print(f\"Original list: {empty_list}\")\n",
        "print(f\"List of squares: {squared_empty}\")\n",
        "\n",
        "negative_numbers = [-1, -2, -3]\n",
        "squared_negatives = square_list(negative_numbers)\n",
        "print(f\"Original list: {negative_numbers}\")\n",
        "print(f\"List of squares: {squared_negatives}\")"
      ],
      "metadata": {
        "colab": {
          "base_uri": "https://localhost:8080/"
        },
        "id": "zlBQjNceqeIN",
        "outputId": "678d41f9-9e3e-44f8-d75f-3f0a72d3d341"
      },
      "execution_count": 13,
      "outputs": [
        {
          "output_type": "stream",
          "name": "stdout",
          "text": [
            "Original list: [1, 2, 3, 4, 5]\n",
            "List of squares: [1, 4, 9, 16, 25]\n",
            "Original list: []\n",
            "List of squares: []\n",
            "Original list: [-1, -2, -3]\n",
            "List of squares: [1, 4, 9]\n"
          ]
        }
      ]
    },
    {
      "cell_type": "markdown",
      "source": [
        "4. Write a Python function that checks if a given number is prime or not from 1 to 200."
      ],
      "metadata": {
        "id": "C3X4-lwrqnNg"
      }
    },
    {
      "cell_type": "code",
      "source": [
        "def is_prime(number):\n",
        "  \"\"\"\n",
        "  Checks if a given number (within the range 1 to 200) is prime or not.\n",
        "\n",
        "  Args:\n",
        "    number: An integer to check for primality.\n",
        "\n",
        "  Returns:\n",
        "    True if the number is prime and within the range, False otherwise.\n",
        "  \"\"\"\n",
        "  if not (1 <= number <= 200):\n",
        "    return False  # Number is outside the specified range\n",
        "\n",
        "  if number <= 1:\n",
        "    return False\n",
        "  if number <= 3:\n",
        "    return True\n",
        "  if number % 2 == 0 or number % 3 == 0:\n",
        "    return False\n",
        "  i = 5\n",
        "  while i * i <= number:\n",
        "    if number % i == 0 or number % (i + 2) == 0:\n",
        "      return False\n",
        "    i += 6\n",
        "  return True\n",
        "\n",
        "# Test cases\n",
        "print(f\"2 is prime: {is_prime(2)}\")\n",
        "print(f\"10 is prime: {is_prime(10)}\")\n",
        "print(f\"17 is prime: {is_prime(17)}\")\n",
        "print(f\"1 is prime: {is_prime(1)}\")\n",
        "print(f\"201 is prime: {is_prime(201)}\") # Outside the range\n",
        "print(f\"0 is prime: {is_prime(0)}\")   # Outside the range\n",
        "print(f\"100 is prime: {is_prime(100)}\")\n",
        "print(f\"97 is prime: {is_prime(97)}\")\n",
        "print(f\"199 is prime: {is_prime(199)}\")"
      ],
      "metadata": {
        "colab": {
          "base_uri": "https://localhost:8080/"
        },
        "id": "doD3MuJbqmDT",
        "outputId": "84c646ba-d6a7-46c5-eb4c-4669d9e9b274"
      },
      "execution_count": 14,
      "outputs": [
        {
          "output_type": "stream",
          "name": "stdout",
          "text": [
            "2 is prime: True\n",
            "10 is prime: False\n",
            "17 is prime: True\n",
            "1 is prime: False\n",
            "201 is prime: False\n",
            "0 is prime: False\n",
            "100 is prime: False\n",
            "97 is prime: True\n",
            "199 is prime: True\n"
          ]
        }
      ]
    },
    {
      "cell_type": "markdown",
      "source": [
        "5. Create an iterator class in Python that generates the Fibonacci sequence up to a specified number of\n",
        "terms"
      ],
      "metadata": {
        "id": "qZbGJZb0q06m"
      }
    },
    {
      "cell_type": "code",
      "source": [
        "class FibonacciIterator:\n",
        "    \"\"\"\n",
        "    An iterator that generates the Fibonacci sequence up to a specified number of terms.\n",
        "    \"\"\"\n",
        "    def __init__(self, num_terms):\n",
        "        \"\"\"\n",
        "        Initializes the iterator.\n",
        "\n",
        "        Args:\n",
        "            num_terms: The maximum number of Fibonacci numbers to generate.\n",
        "        \"\"\"\n",
        "        if not isinstance(num_terms, int) or num_terms <= 0:\n",
        "            raise ValueError(\"Number of terms must be a positive integer.\")\n",
        "        self.num_terms = num_terms\n",
        "        self.current_term = 0\n",
        "        self.a = 0\n",
        "        self.b = 1\n",
        "\n",
        "    def __iter__(self):\n",
        "        \"\"\"\n",
        "        Returns the iterator object itself. This method is required for an iterator.\n",
        "        \"\"\"\n",
        "        return self\n",
        "\n",
        "    def __next__(self):\n",
        "        \"\"\"\n",
        "        Returns the next Fibonacci number in the sequence.\n",
        "\n",
        "        Raises:\n",
        "            StopIteration: If the specified number of terms has been reached.\n",
        "        \"\"\"\n",
        "        if self.current_term < self.num_terms:\n",
        "            if self.current_term == 0:\n",
        "                result = self.a\n",
        "            elif self.current_term == 1:\n",
        "                result = self.b\n",
        "            else:\n",
        "                result = self.a + self.b\n",
        "                self.a, self.b = self.b, result  # Update a and b for the next term\n",
        "            self.current_term += 1\n",
        "            return result\n",
        "        else:\n",
        "            raise StopIteration\n",
        "\n",
        "# Example usage:\n",
        "fibonacci_up_to_10 = FibonacciIterator(10)\n",
        "print(\"First 10 Fibonacci numbers:\")\n",
        "for num in fibonacci_up_to_10:\n",
        "    print(num, end=\" \")\n",
        "print(\"\\n\")\n",
        "\n",
        "fibonacci_up_to_5 = FibonacciIterator(5)\n",
        "print(\"First 5 Fibonacci numbers (iterating manually):\")\n",
        "print(next(fibonacci_up_to_5))\n",
        "print(next(fibonacci_up_to_5))\n",
        "print(next(fibonacci_up_to_5))\n",
        "print(next(fibonacci_up_to_5))\n",
        "print(next(fibonacci_up_to_5))\n",
        "try:\n",
        "    next(fibonacci_up_to_5)  # This will raise StopIteration\n",
        "except StopIteration:\n",
        "    print(\"Iteration stopped.\")"
      ],
      "metadata": {
        "colab": {
          "base_uri": "https://localhost:8080/"
        },
        "id": "Jnc29BjMqu1j",
        "outputId": "912e9dd2-dc99-4e01-b566-9af29a48465d"
      },
      "execution_count": 15,
      "outputs": [
        {
          "output_type": "stream",
          "name": "stdout",
          "text": [
            "First 10 Fibonacci numbers:\n",
            "0 1 1 2 3 5 8 13 21 34 \n",
            "\n",
            "First 5 Fibonacci numbers (iterating manually):\n",
            "0\n",
            "1\n",
            "1\n",
            "2\n",
            "3\n",
            "Iteration stopped.\n"
          ]
        }
      ]
    },
    {
      "cell_type": "markdown",
      "source": [
        "6. Write a generator function in Python that yields the powers of 2 up to a given exponent."
      ],
      "metadata": {
        "id": "0E0wx7oyq4NQ"
      }
    },
    {
      "cell_type": "code",
      "source": [
        "def powers_of_two(exponent):\n",
        "  \"\"\"\n",
        "  Generates powers of 2 up to a given exponent.\n",
        "\n",
        "  Args:\n",
        "    exponent: The maximum exponent (inclusive) for the powers of 2.\n",
        "\n",
        "  Yields:\n",
        "    The powers of 2, starting from 2^0 up to 2^exponent.\n",
        "  \"\"\"\n",
        "  for i in range(exponent + 1):\n",
        "    yield 2 ** i\n",
        "\n",
        "# Example usage:\n",
        "print(\"Powers of 2 up to exponent 5:\")\n",
        "for power in powers_of_two(5):\n",
        "  print(power)\n",
        "\n",
        "print(\"\\nPowers of 2 up to exponent 0:\")\n",
        "for power in powers_of_two(0):\n",
        "  print(power)\n",
        "\n",
        "print(\"\\nPowers of 2 up to exponent 3:\")\n",
        "powers = powers_of_two(3)\n",
        "print(next(powers))\n",
        "print(next(powers))\n",
        "print(next(powers))\n",
        "print(next(powers))\n",
        "try:\n",
        "  next(powers)  # This will raise StopIteration\n",
        "except StopIteration:\n",
        "  print(\"Iteration stopped.\")"
      ],
      "metadata": {
        "colab": {
          "base_uri": "https://localhost:8080/"
        },
        "id": "S9xOhLsgq3Fl",
        "outputId": "c538f775-9d7c-441d-a04b-a0a94b765a1f"
      },
      "execution_count": 16,
      "outputs": [
        {
          "output_type": "stream",
          "name": "stdout",
          "text": [
            "Powers of 2 up to exponent 5:\n",
            "1\n",
            "2\n",
            "4\n",
            "8\n",
            "16\n",
            "32\n",
            "\n",
            "Powers of 2 up to exponent 0:\n",
            "1\n",
            "\n",
            "Powers of 2 up to exponent 3:\n",
            "1\n",
            "2\n",
            "4\n",
            "8\n",
            "Iteration stopped.\n"
          ]
        }
      ]
    },
    {
      "cell_type": "markdown",
      "source": [
        "7. Implement a generator function that reads a file line by line and yields each line as a string."
      ],
      "metadata": {
        "id": "SPfzMZCYq94d"
      }
    },
    {
      "cell_type": "code",
      "source": [
        "def read_file_lines(filepath):\n",
        "  \"\"\"\n",
        "  Reads a file line by line and yields each line as a string.\n",
        "\n",
        "  Args:\n",
        "    filepath: The path to the file to be read.\n",
        "\n",
        "  Yields:\n",
        "    Each line from the file as a string (including the newline character).\n",
        "  \"\"\"\n",
        "  try:\n",
        "    with open(filepath, 'r') as file:\n",
        "      for line in file:\n",
        "        yield line\n",
        "  except FileNotFoundError:\n",
        "    print(f\"Error: File not found at '{filepath}'\")\n",
        "\n",
        "# Example usage:\n",
        "# Create a sample file for testing\n",
        "with open(\"sample.txt\", \"w\") as f:\n",
        "  f.write(\"This is the first line.\\n\")\n",
        "  f.write(\"This is the second line.\\n\")\n",
        "  f.write(\"And this is the third line.\\n\")\n",
        "\n",
        "# Read the file line by line using the generator\n",
        "print(\"Reading file 'sample.txt' line by line:\")\n",
        "for line in read_file_lines(\"sample.txt\"):\n",
        "  print(f\"Line: {line.strip()}\")  # Use .strip() to remove the trailing newline\n",
        "\n",
        "# Example of handling FileNotFoundError\n",
        "print(\"\\nTrying to read a non-existent file:\")\n",
        "for line in read_file_lines(\"non_existent_file.txt\"):\n",
        "  print(line)"
      ],
      "metadata": {
        "colab": {
          "base_uri": "https://localhost:8080/"
        },
        "id": "jAsjVXynq80I",
        "outputId": "3301a294-7636-4afe-aebc-bfb49703ff9a"
      },
      "execution_count": 18,
      "outputs": [
        {
          "output_type": "stream",
          "name": "stdout",
          "text": [
            "Reading file 'sample.txt' line by line:\n",
            "Line: This is the first line.\n",
            "Line: This is the second line.\n",
            "Line: And this is the third line.\n",
            "\n",
            "Trying to read a non-existent file:\n",
            "Error: File not found at 'non_existent_file.txt'\n"
          ]
        }
      ]
    },
    {
      "cell_type": "markdown",
      "source": [
        "8. Use a lambda function in Python to sort a list of tuples based on the second element of each tuple."
      ],
      "metadata": {
        "id": "1vPZxXlorEKt"
      }
    },
    {
      "cell_type": "code",
      "source": [
        "my_list_of_tuples = [('apple', 5), ('banana', 2), ('cherry', 8), ('date', 1)]\n",
        "\n",
        "# Sort the list of tuples based on the second element (index 1)\n",
        "sorted_list = sorted(my_list_of_tuples, key=lambda item: item[1])\n",
        "\n",
        "print(f\"Original list of tuples: {my_list_of_tuples}\")\n",
        "print(f\"Sorted list of tuples (by second element): {sorted_list}\")"
      ],
      "metadata": {
        "colab": {
          "base_uri": "https://localhost:8080/"
        },
        "id": "BEF8h-8DrDRC",
        "outputId": "3bd16692-0c53-4830-ad21-d31802b4f55a"
      },
      "execution_count": 19,
      "outputs": [
        {
          "output_type": "stream",
          "name": "stdout",
          "text": [
            "Original list of tuples: [('apple', 5), ('banana', 2), ('cherry', 8), ('date', 1)]\n",
            "Sorted list of tuples (by second element): [('date', 1), ('banana', 2), ('apple', 5), ('cherry', 8)]\n"
          ]
        }
      ]
    },
    {
      "cell_type": "markdown",
      "source": [
        "9. Write a Python program that uses `map()` to convert a list of temperatures from Celsius to Fahrenheit."
      ],
      "metadata": {
        "id": "1qQEUhFkrLkw"
      }
    },
    {
      "cell_type": "code",
      "source": [
        "def celsius_to_fahrenheit(celsius):\n",
        "  \"\"\"Converts Celsius to Fahrenheit.\"\"\"\n",
        "  return (celsius * 9/5) + 32\n",
        "\n",
        "celsius_temperatures = [0, 10, 20, 30, 100]\n",
        "\n",
        "# Use map() to apply the conversion function to each temperature\n",
        "fahrenheit_temperatures = list(map(celsius_to_fahrenheit, celsius_temperatures))\n",
        "\n",
        "print(f\"Celsius temperatures: {celsius_temperatures}\")\n",
        "print(f\"Fahrenheit temperatures: {fahrenheit_temperatures}\")\n",
        "\n",
        "# You can also use a lambda function directly with map():\n",
        "celsius_temps_2 = [-10, 5, 15, 25, 40]\n",
        "fahrenheit_temps_2 = list(map(lambda c: (c * 9/5) + 32, celsius_temps_2))\n",
        "\n",
        "print(f\"\\nCelsius temperatures (using lambda): {celsius_temps_2}\")\n",
        "print(f\"Fahrenheit temperatures (using lambda): {fahrenheit_temps_2}\")"
      ],
      "metadata": {
        "colab": {
          "base_uri": "https://localhost:8080/"
        },
        "id": "vi-6sv4GrK1A",
        "outputId": "10b18ede-38ad-43ac-c4df-f1a533e2ad9c"
      },
      "execution_count": 20,
      "outputs": [
        {
          "output_type": "stream",
          "name": "stdout",
          "text": [
            "Celsius temperatures: [0, 10, 20, 30, 100]\n",
            "Fahrenheit temperatures: [32.0, 50.0, 68.0, 86.0, 212.0]\n",
            "\n",
            "Celsius temperatures (using lambda): [-10, 5, 15, 25, 40]\n",
            "Fahrenheit temperatures (using lambda): [14.0, 41.0, 59.0, 77.0, 104.0]\n"
          ]
        }
      ]
    },
    {
      "cell_type": "markdown",
      "source": [
        "10. Create a Python program that uses `filter()` to remove all the vowels from a given string."
      ],
      "metadata": {
        "id": "3xIAr02nrR1j"
      }
    },
    {
      "cell_type": "code",
      "source": [
        "def remove_vowels(input_string):\n",
        "  \"\"\"Removes all vowels (case-insensitive) from a given string using filter().\n",
        "\n",
        "  Args:\n",
        "    input_string: The string from which vowels will be removed.\n",
        "\n",
        "  Returns:\n",
        "    A new string with all vowels removed.\n",
        "  \"\"\"\n",
        "  vowels = \"aeiouAEIOU\"\n",
        "  filtered_chars = filter(lambda char: char not in vowels, input_string)\n",
        "  return \"\".join(filtered_chars)\n",
        "\n",
        "# Example usage:\n",
        "text1 = \"Hello World\"\n",
        "result1 = remove_vowels(text1)\n",
        "print(f\"Original string: '{text1}'\")\n",
        "print(f\"String without vowels: '{result1}'\")\n",
        "\n",
        "text2 = \"Programming in Python\"\n",
        "result2 = remove_vowels(text2)\n",
        "print(f\"Original string: '{text2}'\")\n",
        "print(f\"String without vowels: '{result2}'\")\n",
        "\n",
        "text3 = \"AEIOUaeiou\"\n",
        "result3 = remove_vowels(text3)\n",
        "print(f\"Original string: '{text3}'\")\n",
        "print(f\"String without vowels: '{result3}'\")\n",
        "\n",
        "text4 = \"rhythm\"\n",
        "result4 = remove_vowels(text4)\n",
        "print(f\"Original string: '{text4}'\")\n",
        "print(f\"String without vowels: '{result4}'\")"
      ],
      "metadata": {
        "colab": {
          "base_uri": "https://localhost:8080/"
        },
        "id": "OnPo8rBPrQ2H",
        "outputId": "3af4fd03-6cc7-4f74-c915-660584acb71d"
      },
      "execution_count": 21,
      "outputs": [
        {
          "output_type": "stream",
          "name": "stdout",
          "text": [
            "Original string: 'Hello World'\n",
            "String without vowels: 'Hll Wrld'\n",
            "Original string: 'Programming in Python'\n",
            "String without vowels: 'Prgrmmng n Pythn'\n",
            "Original string: 'AEIOUaeiou'\n",
            "String without vowels: ''\n",
            "Original string: 'rhythm'\n",
            "String without vowels: 'rhythm'\n"
          ]
        }
      ]
    },
    {
      "cell_type": "markdown",
      "source": [
        "11) Imagine an accounting routine used in a book shop. It works on a list with sublists, which look like this:\n",
        "![image.png](data:image/png;base64,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)\n",
        "\n",
        "Write a Python program, which returns a list with 2-tuples. Each tuple consists of the order number and the\n",
        "product of the price per item and the quantity. The product should be increased by 10,- € if the value of the\n",
        "order is smaller than 100,00 €.\n",
        "\n",
        "Write a Python program using lambda and map."
      ],
      "metadata": {
        "id": "ie1UD6BYrXSg"
      }
    },
    {
      "cell_type": "code",
      "source": [
        "from typing import List, Tuple\n",
        "\n",
        "def calculate_order_values(orders: List[List]) -> List[Tuple[str, float]]:\n",
        "    \"\"\"\n",
        "    Calculates the total value of each order, adding a surcharge if the value is less than 100.\n",
        "\n",
        "    Args:\n",
        "        orders: A list of orders, where each order is a list containing:\n",
        "                [order_number, product_name, price_per_item, quantity]\n",
        "\n",
        "    Returns:\n",
        "        A list of 2-tuples, where each tuple contains the order number and the\n",
        "        calculated total value (price * quantity + surcharge if applicable).\n",
        "    \"\"\"\n",
        "    return list(map(lambda order: (order[0], (order[2] * order[3]) + 10 if (order[2] * order[3]) < 100 else (order[2] * order[3])), orders))\n",
        "\n",
        "# Example usage:\n",
        "book_shop_orders = [\n",
        "    [\"ORD001\", \"The Lord of the Rings\", 25.50, 2],\n",
        "    [\"ORD002\", \"Pride and Prejudice\", 12.75, 5],\n",
        "    [\"ORD003\", \"To Kill a Mockingbird\", 9.99, 3],\n",
        "    [\"ORD004\", \"1984\", 15.00, 1],\n",
        "    [\"ORD005\", \"The Great Gatsby\", 11.20, 8],\n",
        "    [\"ORD006\", \"Little Women\", 8.50, 10],\n",
        "]\n",
        "\n",
        "order_values = calculate_order_values(book_shop_orders)\n",
        "print(order_values)"
      ],
      "metadata": {
        "colab": {
          "base_uri": "https://localhost:8080/"
        },
        "id": "w7sZaWl6rWeC",
        "outputId": "ac8384ab-ed8a-4e22-bac5-12d968b6c7d0"
      },
      "execution_count": 22,
      "outputs": [
        {
          "output_type": "stream",
          "name": "stdout",
          "text": [
            "[('ORD001', 61.0), ('ORD002', 73.75), ('ORD003', 39.97), ('ORD004', 25.0), ('ORD005', 99.6), ('ORD006', 95.0)]\n"
          ]
        }
      ]
    },
    {
      "cell_type": "code",
      "source": [],
      "metadata": {
        "id": "8Ij_6YMareNc"
      },
      "execution_count": null,
      "outputs": []
    }
  ]
}